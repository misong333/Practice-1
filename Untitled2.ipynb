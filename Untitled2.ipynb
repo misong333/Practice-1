{
  "nbformat": 4,
  "nbformat_minor": 0,
  "metadata": {
    "colab": {
      "provenance": [],
      "authorship_tag": "ABX9TyNG1NtgZFR9LdMyOBsVVp3j",
      "include_colab_link": true
    },
    "kernelspec": {
      "name": "python3",
      "display_name": "Python 3"
    },
    "language_info": {
      "name": "python"
    }
  },
  "cells": [
    {
      "cell_type": "markdown",
      "metadata": {
        "id": "view-in-github",
        "colab_type": "text"
      },
      "source": [
        "<a href=\"https://colab.research.google.com/github/misong333/Practice-1/blob/main/Untitled2.ipynb\" target=\"_parent\"><img src=\"https://colab.research.google.com/assets/colab-badge.svg\" alt=\"Open In Colab\"/></a>"
      ]
    },
    {
      "cell_type": "markdown",
      "source": [
        "# The Midnight Library\n",
        "\n",
        "<p align=\"center\">\n",
        "  <img src=\"https://github.com/MK316/Digital-Literacy-Class/blob/main/materials/story01.png\" width=\"400\">\n",
        "</p>\n",
        "<p align=\"center\"><em>The Midnight Library</em></p>\n",
        "\n",
        "\n",
        "In the small town of *Willowby*, there stood an old library that was rumored to be enchanted. Every night at midnight, the books inside would whisper stories to each other, bringing their characters to life. One evening, **Sarah**, a curious 15-year-old book lover, decided to sneak into the library to see if the rumors were true.\n",
        "\n",
        "As the clock struck twelve, the books began to rustle. To Sarah's amazement, characters stepped out of their pages. She met **Alice** from Wonderland, **the White Rabbit**, and even **pirates** from Treasure Island. They invited her to join their midnight council, where they discussed the tales of their adventures and the wisdom they contained.\n",
        "\n",
        "Sarah spent the whole night listening and learning from the characters, promising to keep their secret. As dawn approached, they returned to their pages. Sarah left the library, inspired and filled with stories to tell, forever changed by the magic of the Midnight Library.\n",
        "\n",
        "\n",
        "| Character |      Location     |\n",
        "|-----------|-------------------|\n",
        "| Sarah     |   In the Library  |\n",
        "| Alice     |   In the book     |\n",
        "| Animals   |   In the book     |\n"
      ],
      "metadata": {
        "id": "lslt5IVHmOD0"
      }
    }
  ]
}